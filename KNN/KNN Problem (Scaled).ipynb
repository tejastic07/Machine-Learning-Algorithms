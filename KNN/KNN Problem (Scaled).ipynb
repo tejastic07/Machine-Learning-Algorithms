{
 "cells": [
  {
   "cell_type": "markdown",
   "metadata": {},
   "source": [
    "# Objective :- \n",
    "\n",
    "\n",
    "* We will predict for weather the person is having diabetes or not.\n",
    "\n",
    "* 1 = Yes and 0 = No"
   ]
  },
  {
   "cell_type": "markdown",
   "metadata": {},
   "source": [
    "# Step 1 :Library & Data Import"
   ]
  },
  {
   "cell_type": "code",
   "execution_count": 2,
   "metadata": {},
   "outputs": [],
   "source": [
    "import warnings\n",
    "warnings.filterwarnings(\"ignore\")"
   ]
  },
  {
   "cell_type": "code",
   "execution_count": 3,
   "metadata": {},
   "outputs": [],
   "source": [
    "import os\n",
    "import numpy as np\n",
    "import pandas as pd\n",
    "import numpy as np, pandas as pd\n",
    "import matplotlib.pyplot as plt\n",
    "from sklearn.neighbors import KNeighborsClassifier"
   ]
  },
  {
   "cell_type": "code",
   "execution_count": 4,
   "metadata": {},
   "outputs": [
    {
     "data": {
      "text/html": [
       "<div>\n",
       "<style scoped>\n",
       "    .dataframe tbody tr th:only-of-type {\n",
       "        vertical-align: middle;\n",
       "    }\n",
       "\n",
       "    .dataframe tbody tr th {\n",
       "        vertical-align: top;\n",
       "    }\n",
       "\n",
       "    .dataframe thead th {\n",
       "        text-align: right;\n",
       "    }\n",
       "</style>\n",
       "<table border=\"1\" class=\"dataframe\">\n",
       "  <thead>\n",
       "    <tr style=\"text-align: right;\">\n",
       "      <th></th>\n",
       "      <th>Pregnancies</th>\n",
       "      <th>Glucose</th>\n",
       "      <th>BloodPressure</th>\n",
       "      <th>SkinThickness</th>\n",
       "      <th>Insulin</th>\n",
       "      <th>BMI</th>\n",
       "      <th>DiabetesPedigreeFunction</th>\n",
       "      <th>Age</th>\n",
       "      <th>Outcome</th>\n",
       "    </tr>\n",
       "  </thead>\n",
       "  <tbody>\n",
       "    <tr>\n",
       "      <th>0</th>\n",
       "      <td>6</td>\n",
       "      <td>148</td>\n",
       "      <td>72</td>\n",
       "      <td>35</td>\n",
       "      <td>0</td>\n",
       "      <td>33.6</td>\n",
       "      <td>0.627</td>\n",
       "      <td>50</td>\n",
       "      <td>1</td>\n",
       "    </tr>\n",
       "    <tr>\n",
       "      <th>1</th>\n",
       "      <td>1</td>\n",
       "      <td>85</td>\n",
       "      <td>66</td>\n",
       "      <td>29</td>\n",
       "      <td>0</td>\n",
       "      <td>26.6</td>\n",
       "      <td>0.351</td>\n",
       "      <td>31</td>\n",
       "      <td>0</td>\n",
       "    </tr>\n",
       "    <tr>\n",
       "      <th>2</th>\n",
       "      <td>8</td>\n",
       "      <td>183</td>\n",
       "      <td>64</td>\n",
       "      <td>0</td>\n",
       "      <td>0</td>\n",
       "      <td>23.3</td>\n",
       "      <td>0.672</td>\n",
       "      <td>32</td>\n",
       "      <td>1</td>\n",
       "    </tr>\n",
       "    <tr>\n",
       "      <th>3</th>\n",
       "      <td>1</td>\n",
       "      <td>89</td>\n",
       "      <td>66</td>\n",
       "      <td>23</td>\n",
       "      <td>94</td>\n",
       "      <td>28.1</td>\n",
       "      <td>0.167</td>\n",
       "      <td>21</td>\n",
       "      <td>0</td>\n",
       "    </tr>\n",
       "    <tr>\n",
       "      <th>4</th>\n",
       "      <td>0</td>\n",
       "      <td>137</td>\n",
       "      <td>40</td>\n",
       "      <td>35</td>\n",
       "      <td>168</td>\n",
       "      <td>43.1</td>\n",
       "      <td>2.288</td>\n",
       "      <td>33</td>\n",
       "      <td>1</td>\n",
       "    </tr>\n",
       "  </tbody>\n",
       "</table>\n",
       "</div>"
      ],
      "text/plain": [
       "   Pregnancies  Glucose  BloodPressure  SkinThickness  Insulin   BMI  \\\n",
       "0            6      148             72             35        0  33.6   \n",
       "1            1       85             66             29        0  26.6   \n",
       "2            8      183             64              0        0  23.3   \n",
       "3            1       89             66             23       94  28.1   \n",
       "4            0      137             40             35      168  43.1   \n",
       "\n",
       "   DiabetesPedigreeFunction  Age  Outcome  \n",
       "0                     0.627   50        1  \n",
       "1                     0.351   31        0  \n",
       "2                     0.672   32        1  \n",
       "3                     0.167   21        0  \n",
       "4                     2.288   33        1  "
      ]
     },
     "execution_count": 4,
     "metadata": {},
     "output_type": "execute_result"
    }
   ],
   "source": [
    "data = pd.read_csv(r'C:\\Users\\admin\\Desktop\\Machine Learning\\KNN\\Problem 2\\diabetes.csv')\n",
    "data.head()"
   ]
  },
  {
   "cell_type": "markdown",
   "metadata": {},
   "source": [
    "#  Step 2 : Data Pre-Processing"
   ]
  },
  {
   "cell_type": "code",
   "execution_count": 5,
   "metadata": {},
   "outputs": [
    {
     "name": "stdout",
     "output_type": "stream",
     "text": [
      "<class 'pandas.core.frame.DataFrame'>\n",
      "RangeIndex: 767 entries, 0 to 766\n",
      "Data columns (total 9 columns):\n",
      " #   Column                    Non-Null Count  Dtype  \n",
      "---  ------                    --------------  -----  \n",
      " 0   Pregnancies               767 non-null    int64  \n",
      " 1   Glucose                   767 non-null    int64  \n",
      " 2   BloodPressure             767 non-null    int64  \n",
      " 3   SkinThickness             767 non-null    int64  \n",
      " 4   Insulin                   767 non-null    int64  \n",
      " 5   BMI                       767 non-null    float64\n",
      " 6   DiabetesPedigreeFunction  767 non-null    float64\n",
      " 7   Age                       767 non-null    int64  \n",
      " 8   Outcome                   767 non-null    int64  \n",
      "dtypes: float64(2), int64(7)\n",
      "memory usage: 54.1 KB\n"
     ]
    }
   ],
   "source": [
    "data.info()"
   ]
  },
  {
   "cell_type": "markdown",
   "metadata": {},
   "source": [
    "### Removing irrelevant  "
   ]
  },
  {
   "cell_type": "code",
   "execution_count": 6,
   "metadata": {},
   "outputs": [],
   "source": [
    "data['Outcome'].replace(0, 'No', inplace = True)\n",
    "data['Outcome'].replace(1, 'Yes', inplace = True)"
   ]
  },
  {
   "cell_type": "code",
   "execution_count": 7,
   "metadata": {},
   "outputs": [
    {
     "data": {
      "text/html": [
       "<div>\n",
       "<style scoped>\n",
       "    .dataframe tbody tr th:only-of-type {\n",
       "        vertical-align: middle;\n",
       "    }\n",
       "\n",
       "    .dataframe tbody tr th {\n",
       "        vertical-align: top;\n",
       "    }\n",
       "\n",
       "    .dataframe thead th {\n",
       "        text-align: right;\n",
       "    }\n",
       "</style>\n",
       "<table border=\"1\" class=\"dataframe\">\n",
       "  <thead>\n",
       "    <tr style=\"text-align: right;\">\n",
       "      <th></th>\n",
       "      <th>Pregnancies</th>\n",
       "      <th>Glucose</th>\n",
       "      <th>BloodPressure</th>\n",
       "      <th>SkinThickness</th>\n",
       "      <th>Insulin</th>\n",
       "      <th>BMI</th>\n",
       "      <th>DiabetesPedigreeFunction</th>\n",
       "      <th>Age</th>\n",
       "      <th>Outcome</th>\n",
       "    </tr>\n",
       "  </thead>\n",
       "  <tbody>\n",
       "    <tr>\n",
       "      <th>0</th>\n",
       "      <td>6</td>\n",
       "      <td>148</td>\n",
       "      <td>72</td>\n",
       "      <td>35</td>\n",
       "      <td>0</td>\n",
       "      <td>33.6</td>\n",
       "      <td>0.627</td>\n",
       "      <td>50</td>\n",
       "      <td>Yes</td>\n",
       "    </tr>\n",
       "    <tr>\n",
       "      <th>1</th>\n",
       "      <td>1</td>\n",
       "      <td>85</td>\n",
       "      <td>66</td>\n",
       "      <td>29</td>\n",
       "      <td>0</td>\n",
       "      <td>26.6</td>\n",
       "      <td>0.351</td>\n",
       "      <td>31</td>\n",
       "      <td>No</td>\n",
       "    </tr>\n",
       "    <tr>\n",
       "      <th>2</th>\n",
       "      <td>8</td>\n",
       "      <td>183</td>\n",
       "      <td>64</td>\n",
       "      <td>0</td>\n",
       "      <td>0</td>\n",
       "      <td>23.3</td>\n",
       "      <td>0.672</td>\n",
       "      <td>32</td>\n",
       "      <td>Yes</td>\n",
       "    </tr>\n",
       "    <tr>\n",
       "      <th>3</th>\n",
       "      <td>1</td>\n",
       "      <td>89</td>\n",
       "      <td>66</td>\n",
       "      <td>23</td>\n",
       "      <td>94</td>\n",
       "      <td>28.1</td>\n",
       "      <td>0.167</td>\n",
       "      <td>21</td>\n",
       "      <td>No</td>\n",
       "    </tr>\n",
       "    <tr>\n",
       "      <th>4</th>\n",
       "      <td>0</td>\n",
       "      <td>137</td>\n",
       "      <td>40</td>\n",
       "      <td>35</td>\n",
       "      <td>168</td>\n",
       "      <td>43.1</td>\n",
       "      <td>2.288</td>\n",
       "      <td>33</td>\n",
       "      <td>Yes</td>\n",
       "    </tr>\n",
       "  </tbody>\n",
       "</table>\n",
       "</div>"
      ],
      "text/plain": [
       "   Pregnancies  Glucose  BloodPressure  SkinThickness  Insulin   BMI  \\\n",
       "0            6      148             72             35        0  33.6   \n",
       "1            1       85             66             29        0  26.6   \n",
       "2            8      183             64              0        0  23.3   \n",
       "3            1       89             66             23       94  28.1   \n",
       "4            0      137             40             35      168  43.1   \n",
       "\n",
       "   DiabetesPedigreeFunction  Age Outcome  \n",
       "0                     0.627   50     Yes  \n",
       "1                     0.351   31      No  \n",
       "2                     0.672   32     Yes  \n",
       "3                     0.167   21      No  \n",
       "4                     2.288   33     Yes  "
      ]
     },
     "execution_count": 7,
     "metadata": {},
     "output_type": "execute_result"
    }
   ],
   "source": [
    "data.head()"
   ]
  },
  {
   "cell_type": "markdown",
   "metadata": {},
   "source": [
    "### Bad Rate Analysis "
   ]
  },
  {
   "cell_type": "code",
   "execution_count": 8,
   "metadata": {},
   "outputs": [
    {
     "data": {
      "text/plain": [
       "No     499\n",
       "Yes    268\n",
       "Name: Outcome, dtype: int64"
      ]
     },
     "execution_count": 8,
     "metadata": {},
     "output_type": "execute_result"
    }
   ],
   "source": [
    "data.Outcome.value_counts()"
   ]
  },
  {
   "cell_type": "markdown",
   "metadata": {},
   "source": [
    "# Step 3 : Data Partition"
   ]
  },
  {
   "cell_type": "code",
   "execution_count": 9,
   "metadata": {},
   "outputs": [],
   "source": [
    "#Dividing data into train and test dataset\n",
    "from sklearn.model_selection import train_test_split\n",
    "#from random import seed\n",
    "\n",
    "#seed(20)\n",
    "train_x = data.drop(['Outcome'],axis=1)\n",
    "train_y = data['Outcome']\n",
    "\n",
    "# Train test split\n",
    "\n",
    "X_train, X_test, y_train, y_test = train_test_split(train_x, train_y, test_size=0.3,random_state=20)"
   ]
  },
  {
   "cell_type": "code",
   "execution_count": 10,
   "metadata": {},
   "outputs": [
    {
     "data": {
      "text/html": [
       "<div>\n",
       "<style scoped>\n",
       "    .dataframe tbody tr th:only-of-type {\n",
       "        vertical-align: middle;\n",
       "    }\n",
       "\n",
       "    .dataframe tbody tr th {\n",
       "        vertical-align: top;\n",
       "    }\n",
       "\n",
       "    .dataframe thead th {\n",
       "        text-align: right;\n",
       "    }\n",
       "</style>\n",
       "<table border=\"1\" class=\"dataframe\">\n",
       "  <thead>\n",
       "    <tr style=\"text-align: right;\">\n",
       "      <th></th>\n",
       "      <th>Pregnancies</th>\n",
       "      <th>Glucose</th>\n",
       "      <th>BloodPressure</th>\n",
       "      <th>SkinThickness</th>\n",
       "      <th>Insulin</th>\n",
       "      <th>BMI</th>\n",
       "      <th>DiabetesPedigreeFunction</th>\n",
       "      <th>Age</th>\n",
       "    </tr>\n",
       "  </thead>\n",
       "  <tbody>\n",
       "    <tr>\n",
       "      <th>620</th>\n",
       "      <td>2</td>\n",
       "      <td>112</td>\n",
       "      <td>86</td>\n",
       "      <td>42</td>\n",
       "      <td>160</td>\n",
       "      <td>38.4</td>\n",
       "      <td>0.246</td>\n",
       "      <td>28</td>\n",
       "    </tr>\n",
       "    <tr>\n",
       "      <th>521</th>\n",
       "      <td>3</td>\n",
       "      <td>124</td>\n",
       "      <td>80</td>\n",
       "      <td>33</td>\n",
       "      <td>130</td>\n",
       "      <td>33.2</td>\n",
       "      <td>0.305</td>\n",
       "      <td>26</td>\n",
       "    </tr>\n",
       "    <tr>\n",
       "      <th>685</th>\n",
       "      <td>2</td>\n",
       "      <td>129</td>\n",
       "      <td>74</td>\n",
       "      <td>26</td>\n",
       "      <td>205</td>\n",
       "      <td>33.2</td>\n",
       "      <td>0.591</td>\n",
       "      <td>25</td>\n",
       "    </tr>\n",
       "    <tr>\n",
       "      <th>3</th>\n",
       "      <td>1</td>\n",
       "      <td>89</td>\n",
       "      <td>66</td>\n",
       "      <td>23</td>\n",
       "      <td>94</td>\n",
       "      <td>28.1</td>\n",
       "      <td>0.167</td>\n",
       "      <td>21</td>\n",
       "    </tr>\n",
       "    <tr>\n",
       "      <th>74</th>\n",
       "      <td>1</td>\n",
       "      <td>79</td>\n",
       "      <td>75</td>\n",
       "      <td>30</td>\n",
       "      <td>0</td>\n",
       "      <td>32.0</td>\n",
       "      <td>0.396</td>\n",
       "      <td>22</td>\n",
       "    </tr>\n",
       "  </tbody>\n",
       "</table>\n",
       "</div>"
      ],
      "text/plain": [
       "     Pregnancies  Glucose  BloodPressure  SkinThickness  Insulin   BMI  \\\n",
       "620            2      112             86             42      160  38.4   \n",
       "521            3      124             80             33      130  33.2   \n",
       "685            2      129             74             26      205  33.2   \n",
       "3              1       89             66             23       94  28.1   \n",
       "74             1       79             75             30        0  32.0   \n",
       "\n",
       "     DiabetesPedigreeFunction  Age  \n",
       "620                     0.246   28  \n",
       "521                     0.305   26  \n",
       "685                     0.591   25  \n",
       "3                       0.167   21  \n",
       "74                      0.396   22  "
      ]
     },
     "execution_count": 10,
     "metadata": {},
     "output_type": "execute_result"
    }
   ],
   "source": [
    "X_train.head()"
   ]
  },
  {
   "cell_type": "markdown",
   "metadata": {},
   "source": [
    "#  Step 4 : Scaling Data"
   ]
  },
  {
   "cell_type": "code",
   "execution_count": 11,
   "metadata": {},
   "outputs": [],
   "source": [
    "from sklearn.preprocessing import StandardScaler ,minmax_scale\n",
    "scaler = StandardScaler()   # converting data into Z-scale = X-mean / Standard Deviation\n",
    "#scaler.fit(X_train)         # Mean = 0 & standard Deviation =1\n",
    "\n",
    "X_train = scaler.fit_transform(X_train)\n",
    "X_test = scaler.transform(X_test)"
   ]
  },
  {
   "cell_type": "code",
   "execution_count": 12,
   "metadata": {},
   "outputs": [
    {
     "data": {
      "text/plain": [
       "array([[-0.57183458, -0.28101982,  0.93999815,  1.36822396,  0.67103592,\n",
       "         0.86555081, -0.68327306, -0.46186163],\n",
       "       [-0.27309839,  0.09320782,  0.60328239,  0.79986846,  0.4129637 ,\n",
       "         0.18600285, -0.50411111, -0.63032563],\n",
       "       [-0.57183458,  0.249136  ,  0.26656664,  0.35781419,  1.05814425,\n",
       "         0.18600285,  0.36436886, -0.71455762],\n",
       "       [-0.87057077, -0.99828945, -0.1823877 ,  0.16836236,  0.10327704,\n",
       "        -0.48047689, -0.92316787, -1.05148561],\n",
       "       [-0.87057077, -1.31014581,  0.32268593,  0.61041663, -0.70534926,\n",
       "         0.02918409, -0.22777657, -0.96725361]])"
      ]
     },
     "execution_count": 12,
     "metadata": {},
     "output_type": "execute_result"
    }
   ],
   "source": [
    "X_train[0:5]"
   ]
  },
  {
   "cell_type": "code",
   "execution_count": 13,
   "metadata": {},
   "outputs": [
    {
     "data": {
      "text/plain": [
       "array([ 1.06051155e-16,  1.32563943e-16, -4.14262323e-18, -1.98845915e-17,\n",
       "       -6.62819716e-17, -9.41203997e-16, -3.64550844e-17,  9.27947603e-17])"
      ]
     },
     "execution_count": 13,
     "metadata": {},
     "output_type": "execute_result"
    }
   ],
   "source": [
    "X_train.mean(axis=0)"
   ]
  },
  {
   "cell_type": "code",
   "execution_count": 14,
   "metadata": {},
   "outputs": [
    {
     "data": {
      "text/plain": [
       "array([1., 1., 1., 1., 1., 1., 1., 1.])"
      ]
     },
     "execution_count": 14,
     "metadata": {},
     "output_type": "execute_result"
    }
   ],
   "source": [
    " X_train.std(axis=0)"
   ]
  },
  {
   "cell_type": "markdown",
   "metadata": {},
   "source": [
    "# Step 5 : Model Building "
   ]
  },
  {
   "cell_type": "code",
   "execution_count": 15,
   "metadata": {},
   "outputs": [
    {
     "data": {
      "text/plain": [
       "KNeighborsClassifier()"
      ]
     },
     "execution_count": 15,
     "metadata": {},
     "output_type": "execute_result"
    }
   ],
   "source": [
    "# train the decision tree\n",
    "## Instantiate the model with 5 neighbors. \n",
    "model = KNeighborsClassifier(n_neighbors=5)\n",
    "## Fit the model on the training data.\n",
    "model.fit(X_train, y_train)"
   ]
  },
  {
   "cell_type": "markdown",
   "metadata": {},
   "source": [
    "# Step 6 : Predictions on Train Dataset"
   ]
  },
  {
   "cell_type": "code",
   "execution_count": 16,
   "metadata": {},
   "outputs": [
    {
     "data": {
      "text/html": [
       "<div>\n",
       "<style scoped>\n",
       "    .dataframe tbody tr th:only-of-type {\n",
       "        vertical-align: middle;\n",
       "    }\n",
       "\n",
       "    .dataframe tbody tr th {\n",
       "        vertical-align: top;\n",
       "    }\n",
       "\n",
       "    .dataframe thead th {\n",
       "        text-align: right;\n",
       "    }\n",
       "</style>\n",
       "<table border=\"1\" class=\"dataframe\">\n",
       "  <thead>\n",
       "    <tr style=\"text-align: right;\">\n",
       "      <th></th>\n",
       "      <th>Pregnancies</th>\n",
       "      <th>Glucose</th>\n",
       "      <th>BloodPressure</th>\n",
       "      <th>SkinThickness</th>\n",
       "      <th>Insulin</th>\n",
       "      <th>BMI</th>\n",
       "      <th>DiabetesPedigreeFunction</th>\n",
       "      <th>Age</th>\n",
       "    </tr>\n",
       "  </thead>\n",
       "  <tbody>\n",
       "    <tr>\n",
       "      <th>0</th>\n",
       "      <td>-0.571835</td>\n",
       "      <td>-0.281020</td>\n",
       "      <td>0.939998</td>\n",
       "      <td>1.368224</td>\n",
       "      <td>0.671036</td>\n",
       "      <td>0.865551</td>\n",
       "      <td>-0.683273</td>\n",
       "      <td>-0.461862</td>\n",
       "    </tr>\n",
       "    <tr>\n",
       "      <th>1</th>\n",
       "      <td>-0.273098</td>\n",
       "      <td>0.093208</td>\n",
       "      <td>0.603282</td>\n",
       "      <td>0.799868</td>\n",
       "      <td>0.412964</td>\n",
       "      <td>0.186003</td>\n",
       "      <td>-0.504111</td>\n",
       "      <td>-0.630326</td>\n",
       "    </tr>\n",
       "    <tr>\n",
       "      <th>2</th>\n",
       "      <td>-0.571835</td>\n",
       "      <td>0.249136</td>\n",
       "      <td>0.266567</td>\n",
       "      <td>0.357814</td>\n",
       "      <td>1.058144</td>\n",
       "      <td>0.186003</td>\n",
       "      <td>0.364369</td>\n",
       "      <td>-0.714558</td>\n",
       "    </tr>\n",
       "    <tr>\n",
       "      <th>3</th>\n",
       "      <td>-0.870571</td>\n",
       "      <td>-0.998289</td>\n",
       "      <td>-0.182388</td>\n",
       "      <td>0.168362</td>\n",
       "      <td>0.103277</td>\n",
       "      <td>-0.480477</td>\n",
       "      <td>-0.923168</td>\n",
       "      <td>-1.051486</td>\n",
       "    </tr>\n",
       "    <tr>\n",
       "      <th>4</th>\n",
       "      <td>-0.870571</td>\n",
       "      <td>-1.310146</td>\n",
       "      <td>0.322686</td>\n",
       "      <td>0.610417</td>\n",
       "      <td>-0.705349</td>\n",
       "      <td>0.029184</td>\n",
       "      <td>-0.227777</td>\n",
       "      <td>-0.967254</td>\n",
       "    </tr>\n",
       "  </tbody>\n",
       "</table>\n",
       "</div>"
      ],
      "text/plain": [
       "   Pregnancies   Glucose  BloodPressure  SkinThickness   Insulin       BMI  \\\n",
       "0    -0.571835 -0.281020       0.939998       1.368224  0.671036  0.865551   \n",
       "1    -0.273098  0.093208       0.603282       0.799868  0.412964  0.186003   \n",
       "2    -0.571835  0.249136       0.266567       0.357814  1.058144  0.186003   \n",
       "3    -0.870571 -0.998289      -0.182388       0.168362  0.103277 -0.480477   \n",
       "4    -0.870571 -1.310146       0.322686       0.610417 -0.705349  0.029184   \n",
       "\n",
       "   DiabetesPedigreeFunction       Age  \n",
       "0                 -0.683273 -0.461862  \n",
       "1                 -0.504111 -0.630326  \n",
       "2                  0.364369 -0.714558  \n",
       "3                 -0.923168 -1.051486  \n",
       "4                 -0.227777 -0.967254  "
      ]
     },
     "execution_count": 16,
     "metadata": {},
     "output_type": "execute_result"
    }
   ],
   "source": [
    "X_train=pd.DataFrame(X_train,columns=['Pregnancies', 'Glucose', 'BloodPressure', 'SkinThickness', 'Insulin',\n",
    "       'BMI', 'DiabetesPedigreeFunction', 'Age'])\n",
    "X_train.head()"
   ]
  },
  {
   "cell_type": "code",
   "execution_count": 17,
   "metadata": {},
   "outputs": [
    {
     "data": {
      "text/plain": [
       "Index(['Pregnancies', 'Glucose', 'BloodPressure', 'SkinThickness', 'Insulin',\n",
       "       'BMI', 'DiabetesPedigreeFunction', 'Age', 'Outcome'],\n",
       "      dtype='object')"
      ]
     },
     "execution_count": 17,
     "metadata": {},
     "output_type": "execute_result"
    }
   ],
   "source": [
    "data.columns"
   ]
  },
  {
   "cell_type": "code",
   "execution_count": 18,
   "metadata": {},
   "outputs": [],
   "source": [
    "y_train.reset_index(drop=True, inplace=True)"
   ]
  },
  {
   "cell_type": "code",
   "execution_count": 19,
   "metadata": {},
   "outputs": [
    {
     "data": {
      "text/html": [
       "<div>\n",
       "<style scoped>\n",
       "    .dataframe tbody tr th:only-of-type {\n",
       "        vertical-align: middle;\n",
       "    }\n",
       "\n",
       "    .dataframe tbody tr th {\n",
       "        vertical-align: top;\n",
       "    }\n",
       "\n",
       "    .dataframe thead th {\n",
       "        text-align: right;\n",
       "    }\n",
       "</style>\n",
       "<table border=\"1\" class=\"dataframe\">\n",
       "  <thead>\n",
       "    <tr style=\"text-align: right;\">\n",
       "      <th></th>\n",
       "      <th>Pregnancies</th>\n",
       "      <th>Glucose</th>\n",
       "      <th>BloodPressure</th>\n",
       "      <th>SkinThickness</th>\n",
       "      <th>Insulin</th>\n",
       "      <th>BMI</th>\n",
       "      <th>DiabetesPedigreeFunction</th>\n",
       "      <th>Age</th>\n",
       "      <th>Outcome</th>\n",
       "    </tr>\n",
       "  </thead>\n",
       "  <tbody>\n",
       "    <tr>\n",
       "      <th>0</th>\n",
       "      <td>-0.571835</td>\n",
       "      <td>-0.281020</td>\n",
       "      <td>0.939998</td>\n",
       "      <td>1.368224</td>\n",
       "      <td>0.671036</td>\n",
       "      <td>0.865551</td>\n",
       "      <td>-0.683273</td>\n",
       "      <td>-0.461862</td>\n",
       "      <td>No</td>\n",
       "    </tr>\n",
       "    <tr>\n",
       "      <th>1</th>\n",
       "      <td>-0.273098</td>\n",
       "      <td>0.093208</td>\n",
       "      <td>0.603282</td>\n",
       "      <td>0.799868</td>\n",
       "      <td>0.412964</td>\n",
       "      <td>0.186003</td>\n",
       "      <td>-0.504111</td>\n",
       "      <td>-0.630326</td>\n",
       "      <td>No</td>\n",
       "    </tr>\n",
       "    <tr>\n",
       "      <th>2</th>\n",
       "      <td>-0.571835</td>\n",
       "      <td>0.249136</td>\n",
       "      <td>0.266567</td>\n",
       "      <td>0.357814</td>\n",
       "      <td>1.058144</td>\n",
       "      <td>0.186003</td>\n",
       "      <td>0.364369</td>\n",
       "      <td>-0.714558</td>\n",
       "      <td>No</td>\n",
       "    </tr>\n",
       "    <tr>\n",
       "      <th>3</th>\n",
       "      <td>-0.870571</td>\n",
       "      <td>-0.998289</td>\n",
       "      <td>-0.182388</td>\n",
       "      <td>0.168362</td>\n",
       "      <td>0.103277</td>\n",
       "      <td>-0.480477</td>\n",
       "      <td>-0.923168</td>\n",
       "      <td>-1.051486</td>\n",
       "      <td>No</td>\n",
       "    </tr>\n",
       "    <tr>\n",
       "      <th>4</th>\n",
       "      <td>-0.870571</td>\n",
       "      <td>-1.310146</td>\n",
       "      <td>0.322686</td>\n",
       "      <td>0.610417</td>\n",
       "      <td>-0.705349</td>\n",
       "      <td>0.029184</td>\n",
       "      <td>-0.227777</td>\n",
       "      <td>-0.967254</td>\n",
       "      <td>No</td>\n",
       "    </tr>\n",
       "  </tbody>\n",
       "</table>\n",
       "</div>"
      ],
      "text/plain": [
       "   Pregnancies   Glucose  BloodPressure  SkinThickness   Insulin       BMI  \\\n",
       "0    -0.571835 -0.281020       0.939998       1.368224  0.671036  0.865551   \n",
       "1    -0.273098  0.093208       0.603282       0.799868  0.412964  0.186003   \n",
       "2    -0.571835  0.249136       0.266567       0.357814  1.058144  0.186003   \n",
       "3    -0.870571 -0.998289      -0.182388       0.168362  0.103277 -0.480477   \n",
       "4    -0.870571 -1.310146       0.322686       0.610417 -0.705349  0.029184   \n",
       "\n",
       "   DiabetesPedigreeFunction       Age Outcome  \n",
       "0                 -0.683273 -0.461862      No  \n",
       "1                 -0.504111 -0.630326      No  \n",
       "2                  0.364369 -0.714558      No  \n",
       "3                 -0.923168 -1.051486      No  \n",
       "4                 -0.227777 -0.967254      No  "
      ]
     },
     "execution_count": 19,
     "metadata": {},
     "output_type": "execute_result"
    }
   ],
   "source": [
    "train=pd.concat([X_train,y_train],axis=1)\n",
    "train.head()"
   ]
  },
  {
   "cell_type": "code",
   "execution_count": 20,
   "metadata": {},
   "outputs": [
    {
     "data": {
      "text/html": [
       "<div>\n",
       "<style scoped>\n",
       "    .dataframe tbody tr th:only-of-type {\n",
       "        vertical-align: middle;\n",
       "    }\n",
       "\n",
       "    .dataframe tbody tr th {\n",
       "        vertical-align: top;\n",
       "    }\n",
       "\n",
       "    .dataframe thead th {\n",
       "        text-align: right;\n",
       "    }\n",
       "</style>\n",
       "<table border=\"1\" class=\"dataframe\">\n",
       "  <thead>\n",
       "    <tr style=\"text-align: right;\">\n",
       "      <th></th>\n",
       "      <th>Pregnancies</th>\n",
       "      <th>Glucose</th>\n",
       "      <th>BloodPressure</th>\n",
       "      <th>SkinThickness</th>\n",
       "      <th>Insulin</th>\n",
       "      <th>BMI</th>\n",
       "      <th>DiabetesPedigreeFunction</th>\n",
       "      <th>Age</th>\n",
       "      <th>Outcome</th>\n",
       "      <th>Predicted</th>\n",
       "    </tr>\n",
       "  </thead>\n",
       "  <tbody>\n",
       "    <tr>\n",
       "      <th>0</th>\n",
       "      <td>-0.571835</td>\n",
       "      <td>-0.281020</td>\n",
       "      <td>0.939998</td>\n",
       "      <td>1.368224</td>\n",
       "      <td>0.671036</td>\n",
       "      <td>0.865551</td>\n",
       "      <td>-0.683273</td>\n",
       "      <td>-0.461862</td>\n",
       "      <td>No</td>\n",
       "      <td>No</td>\n",
       "    </tr>\n",
       "    <tr>\n",
       "      <th>1</th>\n",
       "      <td>-0.273098</td>\n",
       "      <td>0.093208</td>\n",
       "      <td>0.603282</td>\n",
       "      <td>0.799868</td>\n",
       "      <td>0.412964</td>\n",
       "      <td>0.186003</td>\n",
       "      <td>-0.504111</td>\n",
       "      <td>-0.630326</td>\n",
       "      <td>No</td>\n",
       "      <td>No</td>\n",
       "    </tr>\n",
       "    <tr>\n",
       "      <th>2</th>\n",
       "      <td>-0.571835</td>\n",
       "      <td>0.249136</td>\n",
       "      <td>0.266567</td>\n",
       "      <td>0.357814</td>\n",
       "      <td>1.058144</td>\n",
       "      <td>0.186003</td>\n",
       "      <td>0.364369</td>\n",
       "      <td>-0.714558</td>\n",
       "      <td>No</td>\n",
       "      <td>No</td>\n",
       "    </tr>\n",
       "    <tr>\n",
       "      <th>3</th>\n",
       "      <td>-0.870571</td>\n",
       "      <td>-0.998289</td>\n",
       "      <td>-0.182388</td>\n",
       "      <td>0.168362</td>\n",
       "      <td>0.103277</td>\n",
       "      <td>-0.480477</td>\n",
       "      <td>-0.923168</td>\n",
       "      <td>-1.051486</td>\n",
       "      <td>No</td>\n",
       "      <td>No</td>\n",
       "    </tr>\n",
       "    <tr>\n",
       "      <th>4</th>\n",
       "      <td>-0.870571</td>\n",
       "      <td>-1.310146</td>\n",
       "      <td>0.322686</td>\n",
       "      <td>0.610417</td>\n",
       "      <td>-0.705349</td>\n",
       "      <td>0.029184</td>\n",
       "      <td>-0.227777</td>\n",
       "      <td>-0.967254</td>\n",
       "      <td>No</td>\n",
       "      <td>No</td>\n",
       "    </tr>\n",
       "  </tbody>\n",
       "</table>\n",
       "</div>"
      ],
      "text/plain": [
       "   Pregnancies   Glucose  BloodPressure  SkinThickness   Insulin       BMI  \\\n",
       "0    -0.571835 -0.281020       0.939998       1.368224  0.671036  0.865551   \n",
       "1    -0.273098  0.093208       0.603282       0.799868  0.412964  0.186003   \n",
       "2    -0.571835  0.249136       0.266567       0.357814  1.058144  0.186003   \n",
       "3    -0.870571 -0.998289      -0.182388       0.168362  0.103277 -0.480477   \n",
       "4    -0.870571 -1.310146       0.322686       0.610417 -0.705349  0.029184   \n",
       "\n",
       "   DiabetesPedigreeFunction       Age Outcome Predicted  \n",
       "0                 -0.683273 -0.461862      No        No  \n",
       "1                 -0.504111 -0.630326      No        No  \n",
       "2                  0.364369 -0.714558      No        No  \n",
       "3                 -0.923168 -1.051486      No        No  \n",
       "4                 -0.227777 -0.967254      No        No  "
      ]
     },
     "execution_count": 20,
     "metadata": {},
     "output_type": "execute_result"
    }
   ],
   "source": [
    "train['Predicted']=model.predict(X_train)\n",
    "train.head()"
   ]
  },
  {
   "cell_type": "markdown",
   "metadata": {},
   "source": [
    "# Step 7 : Model Performance Metrics"
   ]
  },
  {
   "cell_type": "code",
   "execution_count": 21,
   "metadata": {},
   "outputs": [
    {
     "name": "stdout",
     "output_type": "stream",
     "text": [
      "[[310  41]\n",
      " [ 61 124]]\n"
     ]
    }
   ],
   "source": [
    "from sklearn.metrics import confusion_matrix\n",
    "confusion_matrix = confusion_matrix(train['Outcome'],train['Predicted'])\n",
    "print(confusion_matrix)"
   ]
  },
  {
   "cell_type": "code",
   "execution_count": 22,
   "metadata": {},
   "outputs": [
    {
     "name": "stdout",
     "output_type": "stream",
     "text": [
      "80.97014925373134\n"
     ]
    }
   ],
   "source": [
    "Accuracy_Train=((310+124)/(536)*100)\n",
    "print(Accuracy_Train)"
   ]
  },
  {
   "cell_type": "code",
   "execution_count": 23,
   "metadata": {
    "scrolled": true
   },
   "outputs": [
    {
     "name": "stdout",
     "output_type": "stream",
     "text": [
      "              precision    recall  f1-score   support\n",
      "\n",
      "          No       0.84      0.88      0.86       351\n",
      "         Yes       0.75      0.67      0.71       185\n",
      "\n",
      "    accuracy                           0.81       536\n",
      "   macro avg       0.79      0.78      0.78       536\n",
      "weighted avg       0.81      0.81      0.81       536\n",
      "\n"
     ]
    }
   ],
   "source": [
    "from sklearn.metrics import classification_report\n",
    "print(classification_report(train['Outcome'], train['Predicted']))"
   ]
  },
  {
   "cell_type": "markdown",
   "metadata": {},
   "source": [
    "# Step 8 : Predictions on Test Dataset"
   ]
  },
  {
   "cell_type": "code",
   "execution_count": 24,
   "metadata": {},
   "outputs": [
    {
     "data": {
      "text/html": [
       "<div>\n",
       "<style scoped>\n",
       "    .dataframe tbody tr th:only-of-type {\n",
       "        vertical-align: middle;\n",
       "    }\n",
       "\n",
       "    .dataframe tbody tr th {\n",
       "        vertical-align: top;\n",
       "    }\n",
       "\n",
       "    .dataframe thead th {\n",
       "        text-align: right;\n",
       "    }\n",
       "</style>\n",
       "<table border=\"1\" class=\"dataframe\">\n",
       "  <thead>\n",
       "    <tr style=\"text-align: right;\">\n",
       "      <th></th>\n",
       "      <th>Pregnancies</th>\n",
       "      <th>Glucose</th>\n",
       "      <th>BloodPressure</th>\n",
       "      <th>SkinThickness</th>\n",
       "      <th>Insulin</th>\n",
       "      <th>BMI</th>\n",
       "      <th>DiabetesPedigreeFunction</th>\n",
       "      <th>Age</th>\n",
       "    </tr>\n",
       "  </thead>\n",
       "  <tbody>\n",
       "    <tr>\n",
       "      <th>0</th>\n",
       "      <td>-0.870571</td>\n",
       "      <td>0.716921</td>\n",
       "      <td>0.715521</td>\n",
       "      <td>1.241923</td>\n",
       "      <td>-0.705349</td>\n",
       "      <td>1.244529</td>\n",
       "      <td>0.412955</td>\n",
       "      <td>-0.461862</td>\n",
       "    </tr>\n",
       "    <tr>\n",
       "      <th>1</th>\n",
       "      <td>-0.571835</td>\n",
       "      <td>-0.062720</td>\n",
       "      <td>-3.886261</td>\n",
       "      <td>-1.284102</td>\n",
       "      <td>-0.705349</td>\n",
       "      <td>-1.591276</td>\n",
       "      <td>1.096200</td>\n",
       "      <td>3.244346</td>\n",
       "    </tr>\n",
       "    <tr>\n",
       "      <th>2</th>\n",
       "      <td>-0.571835</td>\n",
       "      <td>-0.842361</td>\n",
       "      <td>-0.070149</td>\n",
       "      <td>-0.147391</td>\n",
       "      <td>-0.051566</td>\n",
       "      <td>-0.754910</td>\n",
       "      <td>0.273270</td>\n",
       "      <td>-1.051486</td>\n",
       "    </tr>\n",
       "    <tr>\n",
       "      <th>3</th>\n",
       "      <td>0.324374</td>\n",
       "      <td>1.403005</td>\n",
       "      <td>0.154328</td>\n",
       "      <td>-0.084240</td>\n",
       "      <td>0.800072</td>\n",
       "      <td>-0.781046</td>\n",
       "      <td>0.352222</td>\n",
       "      <td>1.475474</td>\n",
       "    </tr>\n",
       "    <tr>\n",
       "      <th>4</th>\n",
       "      <td>0.921846</td>\n",
       "      <td>-1.247775</td>\n",
       "      <td>0.491044</td>\n",
       "      <td>1.241923</td>\n",
       "      <td>-0.292434</td>\n",
       "      <td>1.950214</td>\n",
       "      <td>-0.637723</td>\n",
       "      <td>0.717386</td>\n",
       "    </tr>\n",
       "  </tbody>\n",
       "</table>\n",
       "</div>"
      ],
      "text/plain": [
       "   Pregnancies   Glucose  BloodPressure  SkinThickness   Insulin       BMI  \\\n",
       "0    -0.870571  0.716921       0.715521       1.241923 -0.705349  1.244529   \n",
       "1    -0.571835 -0.062720      -3.886261      -1.284102 -0.705349 -1.591276   \n",
       "2    -0.571835 -0.842361      -0.070149      -0.147391 -0.051566 -0.754910   \n",
       "3     0.324374  1.403005       0.154328      -0.084240  0.800072 -0.781046   \n",
       "4     0.921846 -1.247775       0.491044       1.241923 -0.292434  1.950214   \n",
       "\n",
       "   DiabetesPedigreeFunction       Age  \n",
       "0                  0.412955 -0.461862  \n",
       "1                  1.096200  3.244346  \n",
       "2                  0.273270 -1.051486  \n",
       "3                  0.352222  1.475474  \n",
       "4                 -0.637723  0.717386  "
      ]
     },
     "execution_count": 24,
     "metadata": {},
     "output_type": "execute_result"
    }
   ],
   "source": [
    "X_test=pd.DataFrame(X_test,columns=['Pregnancies', 'Glucose', 'BloodPressure', 'SkinThickness', 'Insulin',\n",
    "       'BMI', 'DiabetesPedigreeFunction', 'Age'])\n",
    "X_test.head()"
   ]
  },
  {
   "cell_type": "code",
   "execution_count": 25,
   "metadata": {},
   "outputs": [],
   "source": [
    "y_test.reset_index(drop=True, inplace=True)"
   ]
  },
  {
   "cell_type": "code",
   "execution_count": 26,
   "metadata": {},
   "outputs": [
    {
     "data": {
      "text/html": [
       "<div>\n",
       "<style scoped>\n",
       "    .dataframe tbody tr th:only-of-type {\n",
       "        vertical-align: middle;\n",
       "    }\n",
       "\n",
       "    .dataframe tbody tr th {\n",
       "        vertical-align: top;\n",
       "    }\n",
       "\n",
       "    .dataframe thead th {\n",
       "        text-align: right;\n",
       "    }\n",
       "</style>\n",
       "<table border=\"1\" class=\"dataframe\">\n",
       "  <thead>\n",
       "    <tr style=\"text-align: right;\">\n",
       "      <th></th>\n",
       "      <th>Pregnancies</th>\n",
       "      <th>Glucose</th>\n",
       "      <th>BloodPressure</th>\n",
       "      <th>SkinThickness</th>\n",
       "      <th>Insulin</th>\n",
       "      <th>BMI</th>\n",
       "      <th>DiabetesPedigreeFunction</th>\n",
       "      <th>Age</th>\n",
       "      <th>Outcome</th>\n",
       "    </tr>\n",
       "  </thead>\n",
       "  <tbody>\n",
       "    <tr>\n",
       "      <th>0</th>\n",
       "      <td>-0.870571</td>\n",
       "      <td>0.716921</td>\n",
       "      <td>0.715521</td>\n",
       "      <td>1.241923</td>\n",
       "      <td>-0.705349</td>\n",
       "      <td>1.244529</td>\n",
       "      <td>0.412955</td>\n",
       "      <td>-0.461862</td>\n",
       "      <td>No</td>\n",
       "    </tr>\n",
       "    <tr>\n",
       "      <th>1</th>\n",
       "      <td>-0.571835</td>\n",
       "      <td>-0.062720</td>\n",
       "      <td>-3.886261</td>\n",
       "      <td>-1.284102</td>\n",
       "      <td>-0.705349</td>\n",
       "      <td>-1.591276</td>\n",
       "      <td>1.096200</td>\n",
       "      <td>3.244346</td>\n",
       "      <td>No</td>\n",
       "    </tr>\n",
       "    <tr>\n",
       "      <th>2</th>\n",
       "      <td>-0.571835</td>\n",
       "      <td>-0.842361</td>\n",
       "      <td>-0.070149</td>\n",
       "      <td>-0.147391</td>\n",
       "      <td>-0.051566</td>\n",
       "      <td>-0.754910</td>\n",
       "      <td>0.273270</td>\n",
       "      <td>-1.051486</td>\n",
       "      <td>No</td>\n",
       "    </tr>\n",
       "    <tr>\n",
       "      <th>3</th>\n",
       "      <td>0.324374</td>\n",
       "      <td>1.403005</td>\n",
       "      <td>0.154328</td>\n",
       "      <td>-0.084240</td>\n",
       "      <td>0.800072</td>\n",
       "      <td>-0.781046</td>\n",
       "      <td>0.352222</td>\n",
       "      <td>1.475474</td>\n",
       "      <td>Yes</td>\n",
       "    </tr>\n",
       "    <tr>\n",
       "      <th>4</th>\n",
       "      <td>0.921846</td>\n",
       "      <td>-1.247775</td>\n",
       "      <td>0.491044</td>\n",
       "      <td>1.241923</td>\n",
       "      <td>-0.292434</td>\n",
       "      <td>1.950214</td>\n",
       "      <td>-0.637723</td>\n",
       "      <td>0.717386</td>\n",
       "      <td>No</td>\n",
       "    </tr>\n",
       "  </tbody>\n",
       "</table>\n",
       "</div>"
      ],
      "text/plain": [
       "   Pregnancies   Glucose  BloodPressure  SkinThickness   Insulin       BMI  \\\n",
       "0    -0.870571  0.716921       0.715521       1.241923 -0.705349  1.244529   \n",
       "1    -0.571835 -0.062720      -3.886261      -1.284102 -0.705349 -1.591276   \n",
       "2    -0.571835 -0.842361      -0.070149      -0.147391 -0.051566 -0.754910   \n",
       "3     0.324374  1.403005       0.154328      -0.084240  0.800072 -0.781046   \n",
       "4     0.921846 -1.247775       0.491044       1.241923 -0.292434  1.950214   \n",
       "\n",
       "   DiabetesPedigreeFunction       Age Outcome  \n",
       "0                  0.412955 -0.461862      No  \n",
       "1                  1.096200  3.244346      No  \n",
       "2                  0.273270 -1.051486      No  \n",
       "3                  0.352222  1.475474     Yes  \n",
       "4                 -0.637723  0.717386      No  "
      ]
     },
     "execution_count": 26,
     "metadata": {},
     "output_type": "execute_result"
    }
   ],
   "source": [
    "test=pd.concat([X_test,y_test],axis=1)\n",
    "test.head()"
   ]
  },
  {
   "cell_type": "code",
   "execution_count": 27,
   "metadata": {},
   "outputs": [
    {
     "data": {
      "text/html": [
       "<div>\n",
       "<style scoped>\n",
       "    .dataframe tbody tr th:only-of-type {\n",
       "        vertical-align: middle;\n",
       "    }\n",
       "\n",
       "    .dataframe tbody tr th {\n",
       "        vertical-align: top;\n",
       "    }\n",
       "\n",
       "    .dataframe thead th {\n",
       "        text-align: right;\n",
       "    }\n",
       "</style>\n",
       "<table border=\"1\" class=\"dataframe\">\n",
       "  <thead>\n",
       "    <tr style=\"text-align: right;\">\n",
       "      <th></th>\n",
       "      <th>Pregnancies</th>\n",
       "      <th>Glucose</th>\n",
       "      <th>BloodPressure</th>\n",
       "      <th>SkinThickness</th>\n",
       "      <th>Insulin</th>\n",
       "      <th>BMI</th>\n",
       "      <th>DiabetesPedigreeFunction</th>\n",
       "      <th>Age</th>\n",
       "      <th>Outcome</th>\n",
       "      <th>Predicted</th>\n",
       "    </tr>\n",
       "  </thead>\n",
       "  <tbody>\n",
       "    <tr>\n",
       "      <th>0</th>\n",
       "      <td>-0.870571</td>\n",
       "      <td>0.716921</td>\n",
       "      <td>0.715521</td>\n",
       "      <td>1.241923</td>\n",
       "      <td>-0.705349</td>\n",
       "      <td>1.244529</td>\n",
       "      <td>0.412955</td>\n",
       "      <td>-0.461862</td>\n",
       "      <td>No</td>\n",
       "      <td>Yes</td>\n",
       "    </tr>\n",
       "    <tr>\n",
       "      <th>1</th>\n",
       "      <td>-0.571835</td>\n",
       "      <td>-0.062720</td>\n",
       "      <td>-3.886261</td>\n",
       "      <td>-1.284102</td>\n",
       "      <td>-0.705349</td>\n",
       "      <td>-1.591276</td>\n",
       "      <td>1.096200</td>\n",
       "      <td>3.244346</td>\n",
       "      <td>No</td>\n",
       "      <td>No</td>\n",
       "    </tr>\n",
       "    <tr>\n",
       "      <th>2</th>\n",
       "      <td>-0.571835</td>\n",
       "      <td>-0.842361</td>\n",
       "      <td>-0.070149</td>\n",
       "      <td>-0.147391</td>\n",
       "      <td>-0.051566</td>\n",
       "      <td>-0.754910</td>\n",
       "      <td>0.273270</td>\n",
       "      <td>-1.051486</td>\n",
       "      <td>No</td>\n",
       "      <td>No</td>\n",
       "    </tr>\n",
       "    <tr>\n",
       "      <th>3</th>\n",
       "      <td>0.324374</td>\n",
       "      <td>1.403005</td>\n",
       "      <td>0.154328</td>\n",
       "      <td>-0.084240</td>\n",
       "      <td>0.800072</td>\n",
       "      <td>-0.781046</td>\n",
       "      <td>0.352222</td>\n",
       "      <td>1.475474</td>\n",
       "      <td>Yes</td>\n",
       "      <td>Yes</td>\n",
       "    </tr>\n",
       "    <tr>\n",
       "      <th>4</th>\n",
       "      <td>0.921846</td>\n",
       "      <td>-1.247775</td>\n",
       "      <td>0.491044</td>\n",
       "      <td>1.241923</td>\n",
       "      <td>-0.292434</td>\n",
       "      <td>1.950214</td>\n",
       "      <td>-0.637723</td>\n",
       "      <td>0.717386</td>\n",
       "      <td>No</td>\n",
       "      <td>No</td>\n",
       "    </tr>\n",
       "  </tbody>\n",
       "</table>\n",
       "</div>"
      ],
      "text/plain": [
       "   Pregnancies   Glucose  BloodPressure  SkinThickness   Insulin       BMI  \\\n",
       "0    -0.870571  0.716921       0.715521       1.241923 -0.705349  1.244529   \n",
       "1    -0.571835 -0.062720      -3.886261      -1.284102 -0.705349 -1.591276   \n",
       "2    -0.571835 -0.842361      -0.070149      -0.147391 -0.051566 -0.754910   \n",
       "3     0.324374  1.403005       0.154328      -0.084240  0.800072 -0.781046   \n",
       "4     0.921846 -1.247775       0.491044       1.241923 -0.292434  1.950214   \n",
       "\n",
       "   DiabetesPedigreeFunction       Age Outcome Predicted  \n",
       "0                  0.412955 -0.461862      No       Yes  \n",
       "1                  1.096200  3.244346      No        No  \n",
       "2                  0.273270 -1.051486      No        No  \n",
       "3                  0.352222  1.475474     Yes       Yes  \n",
       "4                 -0.637723  0.717386      No        No  "
      ]
     },
     "execution_count": 27,
     "metadata": {},
     "output_type": "execute_result"
    }
   ],
   "source": [
    "test['Predicted']=model.predict(X_test)\n",
    "test.head()"
   ]
  },
  {
   "cell_type": "markdown",
   "metadata": {},
   "source": [
    "# Step 9 : Model Performance Metrics on Test data "
   ]
  },
  {
   "cell_type": "code",
   "execution_count": 28,
   "metadata": {},
   "outputs": [
    {
     "name": "stdout",
     "output_type": "stream",
     "text": [
      "[[126  22]\n",
      " [ 39  44]]\n"
     ]
    }
   ],
   "source": [
    "from sklearn.metrics import confusion_matrix\n",
    "confusion_matrix = confusion_matrix(test['Outcome'],test['Predicted'])\n",
    "print(confusion_matrix)"
   ]
  },
  {
   "cell_type": "code",
   "execution_count": 29,
   "metadata": {},
   "outputs": [
    {
     "data": {
      "text/plain": [
       "73.59307359307358"
      ]
     },
     "execution_count": 29,
     "metadata": {},
     "output_type": "execute_result"
    }
   ],
   "source": [
    "Accuracy_test=((126+44)/(231)*100)\n",
    "Accuracy_test"
   ]
  },
  {
   "cell_type": "code",
   "execution_count": 30,
   "metadata": {
    "scrolled": true
   },
   "outputs": [
    {
     "name": "stdout",
     "output_type": "stream",
     "text": [
      "              precision    recall  f1-score   support\n",
      "\n",
      "          No       0.76      0.85      0.81       148\n",
      "         Yes       0.67      0.53      0.59        83\n",
      "\n",
      "    accuracy                           0.74       231\n",
      "   macro avg       0.72      0.69      0.70       231\n",
      "weighted avg       0.73      0.74      0.73       231\n",
      "\n"
     ]
    }
   ],
   "source": [
    "from sklearn.metrics import classification_report\n",
    "print(classification_report(test['Outcome'], test['Predicted']))"
   ]
  },
  {
   "cell_type": "markdown",
   "metadata": {},
   "source": [
    "# Cross Validation Method  - Random concept\n",
    "\n",
    "* To identify the best value of K"
   ]
  },
  {
   "cell_type": "code",
   "execution_count": 31,
   "metadata": {},
   "outputs": [
    {
     "name": "stdout",
     "output_type": "stream",
     "text": [
      "Train Accuracy is  100.0        Test Accuracy is  68.0 % for K-Value: 1\n",
      "Train Accuracy is  84.0        Test Accuracy is  71.0 % for K-Value: 2\n",
      "Train Accuracy is  85.0        Test Accuracy is  74.0 % for K-Value: 3\n",
      "Train Accuracy is  81.0        Test Accuracy is  74.0 % for K-Value: 4\n",
      "Train Accuracy is  81.0        Test Accuracy is  74.0 % for K-Value: 5\n",
      "Train Accuracy is  80.0        Test Accuracy is  72.0 % for K-Value: 6\n",
      "Train Accuracy is  80.0        Test Accuracy is  76.0 % for K-Value: 7\n",
      "Train Accuracy is  77.0        Test Accuracy is  73.0 % for K-Value: 8\n",
      "Train Accuracy is  78.0        Test Accuracy is  76.0 % for K-Value: 9\n",
      "Train Accuracy is  77.0        Test Accuracy is  74.0 % for K-Value: 10\n",
      "Train Accuracy is  78.0        Test Accuracy is  75.0 % for K-Value: 11\n",
      "Train Accuracy is  78.0        Test Accuracy is  74.0 % for K-Value: 12\n",
      "Train Accuracy is  77.0        Test Accuracy is  77.0 % for K-Value: 13\n",
      "Train Accuracy is  76.0        Test Accuracy is  75.0 % for K-Value: 14\n",
      "Train Accuracy is  76.0        Test Accuracy is  77.0 % for K-Value: 15\n",
      "Train Accuracy is  76.0        Test Accuracy is  76.0 % for K-Value: 16\n",
      "Train Accuracy is  77.0        Test Accuracy is  76.0 % for K-Value: 17\n",
      "Train Accuracy is  76.0        Test Accuracy is  77.0 % for K-Value: 18\n",
      "Train Accuracy is  77.0        Test Accuracy is  76.0 % for K-Value: 19\n",
      "Train Accuracy is  77.0        Test Accuracy is  74.0 % for K-Value: 20\n",
      "Train Accuracy is  77.0        Test Accuracy is  74.0 % for K-Value: 21\n",
      "Train Accuracy is  76.0        Test Accuracy is  74.0 % for K-Value: 22\n",
      "Train Accuracy is  77.0        Test Accuracy is  75.0 % for K-Value: 23\n",
      "Train Accuracy is  77.0        Test Accuracy is  75.0 % for K-Value: 24\n",
      "Train Accuracy is  77.0        Test Accuracy is  76.0 % for K-Value: 25\n"
     ]
    }
   ],
   "source": [
    "from sklearn.metrics import accuracy_score\n",
    "for K in range(25):\n",
    "    K_value = K+1\n",
    "    model2 = KNeighborsClassifier(n_neighbors = K_value)\n",
    "    model2.fit(X_train, y_train) \n",
    "    y_pred_Train= model2.predict(X_train)\n",
    "    y_pred_test = model2.predict(X_test)\n",
    "    print(\"Train Accuracy is \", \n",
    "          round(accuracy_score(y_train,y_pred_Train)*100,0), \"      \",\"Test Accuracy is \", round(accuracy_score(y_test,y_pred_test)*100,0),\"% for K-Value:\",\n",
    "          K_value)"
   ]
  },
  {
   "cell_type": "markdown",
   "metadata": {},
   "source": [
    "# train the decision tree\n",
    "## Instantiate the model with 5 neighbors. \n",
    "model = KNeighborsClassifier(n_neighbors=8,metric='euclidean')\n",
    "## Fit the model on the training data.\n",
    "model.fit(X_train, y_train)"
   ]
  },
  {
   "cell_type": "code",
   "execution_count": 35,
   "metadata": {
    "scrolled": true
   },
   "outputs": [
    {
     "name": "stdout",
     "output_type": "stream",
     "text": [
      "Fitting 10 folds for each of 25 candidates, totalling 250 fits\n"
     ]
    },
    {
     "data": {
      "text/plain": [
       "GridSearchCV(cv=10, estimator=KNeighborsClassifier(),\n",
       "             param_grid={'n_neighbors': array([ 1,  2,  3,  4,  5,  6,  7,  8,  9, 10, 11, 12, 13, 14, 15, 16, 17,\n",
       "       18, 19, 20, 21, 22, 23, 24, 25])},\n",
       "             verbose=1)"
      ]
     },
     "execution_count": 35,
     "metadata": {},
     "output_type": "execute_result"
    }
   ],
   "source": [
    "from sklearn.model_selection import GridSearchCV\n",
    "param_grid = {'n_neighbors': np.arange(1, 26)}\n",
    "\n",
    "\n",
    "knn2 = KNeighborsClassifier()\n",
    "knn_gscv = GridSearchCV(knn2, \n",
    "                        param_grid, # 2,3,4,5,6,7,8\n",
    "                        cv=10,\n",
    "                        verbose=1)\n",
    "knn_gscv.fit(X_train, y_train)"
   ]
  },
  {
   "cell_type": "code",
   "execution_count": 33,
   "metadata": {
    "scrolled": false
   },
   "outputs": [
    {
     "data": {
      "text/plain": [
       "{'n_neighbors': 3}"
      ]
     },
     "execution_count": 33,
     "metadata": {},
     "output_type": "execute_result"
    }
   ],
   "source": [
    "#check top performing n_neighbors value\n",
    "knn_gscv.best_params_"
   ]
  },
  {
   "cell_type": "code",
   "execution_count": 34,
   "metadata": {
    "scrolled": true
   },
   "outputs": [
    {
     "data": {
      "text/plain": [
       "0.7292802236198463"
      ]
     },
     "execution_count": 34,
     "metadata": {},
     "output_type": "execute_result"
    }
   ],
   "source": [
    "knn_gscv.best_score_"
   ]
  },
  {
   "cell_type": "markdown",
   "metadata": {},
   "source": [
    "# Finish"
   ]
  }
 ],
 "metadata": {
  "kernelspec": {
   "display_name": "Python 3 (ipykernel)",
   "language": "python",
   "name": "python3"
  },
  "language_info": {
   "codemirror_mode": {
    "name": "ipython",
    "version": 3
   },
   "file_extension": ".py",
   "mimetype": "text/x-python",
   "name": "python",
   "nbconvert_exporter": "python",
   "pygments_lexer": "ipython3",
   "version": "3.9.13"
  }
 },
 "nbformat": 4,
 "nbformat_minor": 2
}
